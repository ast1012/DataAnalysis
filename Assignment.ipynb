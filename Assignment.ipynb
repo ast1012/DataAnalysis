{
 "cells": [
  {
   "cell_type": "markdown",
   "metadata": {},
   "source": [
    "### Importing necessary libraries"
   ]
  },
  {
   "cell_type": "code",
   "execution_count": 5,
   "metadata": {},
   "outputs": [],
   "source": [
    "import numpy as np\n",
    "import pandas as pd\n",
    "import matplotlib.pyplot as plt"
   ]
  },
  {
   "cell_type": "markdown",
   "metadata": {},
   "source": [
    "### Loading the dataset using pandas"
   ]
  },
  {
   "cell_type": "code",
   "execution_count": 6,
   "metadata": {},
   "outputs": [],
   "source": [
    "data = pd.read_csv(r'C:\\Users\\astha\\OneDrive\\Desktop\\sample\\dataset.csv')"
   ]
  },
  {
   "cell_type": "markdown",
   "metadata": {},
   "source": [
    "### Displaying the first 5 rows of data "
   ]
  },
  {
   "cell_type": "code",
   "execution_count": 7,
   "metadata": {},
   "outputs": [
    {
     "name": "stdout",
     "output_type": "stream",
     "text": [
      "                                   CLASS1  CLASS2  \\\n",
      "0  desc                                    manner   \n",
      "1                                    ENTY  cremat   \n",
      "2  desc                                    manner   \n",
      "3                                    ENTY  animal   \n",
      "4                      abb              R     exp   \n",
      "\n",
      "                                           QUESTIONS  \n",
      "0  How did serfdom develop in and then leave Russ...  \n",
      "1   What films featured the character Popeye Doyle ?  \n",
      "2  How can I find               a list of celebri...  \n",
      "3  What fowl gr                  abs the spotligh...  \n",
      "4                    What is the full form of .com ?  \n"
     ]
    }
   ],
   "source": [
    "data = data.drop(['Unnamed: 3'],1)\n",
    "print(data.head(5))"
   ]
  },
  {
   "cell_type": "markdown",
   "metadata": {},
   "source": [
    "### Applying Label Encoder"
   ]
  },
  {
   "cell_type": "code",
   "execution_count": 8,
   "metadata": {},
   "outputs": [],
   "source": [
    "from sklearn import preprocessing\n",
    "label_encoder = preprocessing.LabelEncoder()\n",
    "data['CLASS1'] = label_encoder.fit_transform(data['CLASS1'])\n",
    "data['CLASS2'] = label_encoder.fit_transform(data['CLASS2'])"
   ]
  },
  {
   "cell_type": "markdown",
   "metadata": {},
   "source": [
    "### Applying Tf-Idf Vectorizer\n",
    "#### Here categorical value is replaced with a numeric value between 0 and the number of classes minus 1. Suppose if the categorical variable value contains 5 distinct classes, we use (0, 1, 2, 3, and 4)."
   ]
  },
  {
   "cell_type": "code",
   "execution_count": 15,
   "metadata": {},
   "outputs": [],
   "source": [
    "from sklearn.feature_extraction.text import TfidfVectorizer\n",
    "v = TfidfVectorizer()\n",
    "x = v.fit_transform(data['QUESTIONS'])"
   ]
  },
  {
   "cell_type": "markdown",
   "metadata": {},
   "source": [
    "### Extracting Features and Target Variables"
   ]
  },
  {
   "cell_type": "code",
   "execution_count": 10,
   "metadata": {},
   "outputs": [],
   "source": [
    "y = np.array(data.drop(['QUESTIONS'],1))"
   ]
  },
  {
   "cell_type": "code",
   "execution_count": 11,
   "metadata": {},
   "outputs": [],
   "source": [
    "x = np.array(data['QUESTIONS'])"
   ]
  },
  {
   "cell_type": "code",
   "execution_count": 12,
   "metadata": {},
   "outputs": [
    {
     "name": "stdout",
     "output_type": "stream",
     "text": [
      "[[ 5 24]\n",
      " [ 0  9]\n",
      " [ 5 24]\n",
      " ...\n",
      " [ 3 41]\n",
      " [ 3 41]\n",
      " [ 0 10]]\n"
     ]
    }
   ],
   "source": [
    "print(y)"
   ]
  },
  {
   "cell_type": "code",
   "execution_count": 16,
   "metadata": {},
   "outputs": [
    {
     "name": "stdout",
     "output_type": "stream",
     "text": [
      "  (0, 6492)\t0.4037062902888527\n",
      "  (0, 4329)\t0.4066817455759092\n",
      "  (0, 7509)\t0.3909461231545298\n",
      "  (0, 514)\t0.18684999050433973\n",
      "  (0, 3841)\t0.13368636039675932\n",
      "  (0, 2261)\t0.4397889648165346\n",
      "  (0, 6688)\t0.4608959763409549\n",
      "  (0, 2294)\t0.18975685693610375\n",
      "  (0, 3722)\t0.15543569906373914\n",
      "  (1, 2437)\t0.5146818044794617\n",
      "  (1, 5805)\t0.4654273778494601\n",
      "  (1, 1542)\t0.3535079432208928\n",
      "  (1, 7498)\t0.0962428806450149\n",
      "  (1, 2959)\t0.4340948738501773\n",
      "  (1, 3013)\t0.4340948738501773\n",
      "  (1, 8102)\t0.08586453915803502\n",
      "  (2, 5077)\t0.3844431027906946\n",
      "  (2, 6158)\t0.42649920616178494\n",
      "  (2, 1493)\t0.5038459072304332\n",
      "  (2, 5297)\t0.1440827944264803\n",
      "  (2, 4432)\t0.4413887662675721\n",
      "  (2, 3019)\t0.3082765415509709\n",
      "  (2, 1370)\t0.26802397400893385\n",
      "  (2, 3722)\t0.18435308046260268\n",
      "  (3, 4952)\t0.3730978582068181\n",
      "  :\t:\n",
      "  (15448, 7770)\t0.43960675020172413\n",
      "  (15448, 7848)\t0.3634440803628635\n",
      "  (15448, 3972)\t0.13970912837689312\n",
      "  (15448, 5297)\t0.14851087200800386\n",
      "  (15448, 8102)\t0.09399910067697755\n",
      "  (15448, 3841)\t0.16343040360034417\n",
      "  (15449, 7586)\t0.5892503753859067\n",
      "  (15449, 2751)\t0.5830338889065783\n",
      "  (15449, 7448)\t0.5129590090365136\n",
      "  (15449, 3972)\t0.15684646017922843\n",
      "  (15449, 7498)\t0.11828465489017655\n",
      "  (15449, 8102)\t0.10552944086403233\n",
      "  (15450, 1923)\t0.6063452974187026\n",
      "  (15450, 2751)\t0.5475992514340344\n",
      "  (15450, 7448)\t0.48178326287607603\n",
      "  (15450, 3117)\t0.2376925321683559\n",
      "  (15450, 3972)\t0.14731391402530616\n",
      "  (15450, 7498)\t0.1110957522477266\n",
      "  (15450, 8102)\t0.09911575282488574\n",
      "  (15451, 2093)\t0.6821386559333342\n",
      "  (15451, 753)\t0.5465875743245616\n",
      "  (15451, 7848)\t0.40806258328061507\n",
      "  (15451, 3972)\t0.15686063114974685\n",
      "  (15451, 8102)\t0.10553897537691581\n",
      "  (15451, 3841)\t0.1834940676793158\n"
     ]
    }
   ],
   "source": [
    "print(x)\n",
    "#after applying tf-idf vectorizer the data is converted into numeric data so that it can be processed"
   ]
  },
  {
   "cell_type": "markdown",
   "metadata": {},
   "source": [
    "### Splitting the data into training and testing data\n",
    "#### Here the test set containg 30 % of data and training set contains 70% of data"
   ]
  },
  {
   "cell_type": "code",
   "execution_count": 17,
   "metadata": {},
   "outputs": [],
   "source": [
    "from sklearn.model_selection import train_test_split\n",
    "x_train, x_test, y_train, y_test= train_test_split(x, y, test_size= 0.3, random_state=0)  "
   ]
  },
  {
   "cell_type": "markdown",
   "metadata": {},
   "source": [
    "### Training the Model\n",
    "#### Here K Nearest Neighbours Model is imported and trained on training data"
   ]
  },
  {
   "cell_type": "code",
   "execution_count": 18,
   "metadata": {},
   "outputs": [
    {
     "data": {
      "text/plain": [
       "KNeighborsClassifier()"
      ]
     },
     "execution_count": 18,
     "metadata": {},
     "output_type": "execute_result"
    }
   ],
   "source": [
    "from sklearn.neighbors import KNeighborsClassifier  \n",
    "classifier= KNeighborsClassifier(n_neighbors=5, metric='minkowski', p=2 )  \n",
    "classifier.fit(x_train, y_train)"
   ]
  },
  {
   "cell_type": "markdown",
   "metadata": {},
   "source": [
    "### Predicting the result using test dataset"
   ]
  },
  {
   "cell_type": "code",
   "execution_count": 19,
   "metadata": {},
   "outputs": [],
   "source": [
    "#Predicting the test set result  \n",
    "y_pred= classifier.predict(x_test) "
   ]
  },
  {
   "cell_type": "markdown",
   "metadata": {},
   "source": [
    "### Here the number reprsent the classes. 1st Column represents the prediction of class 1 and second column represent prediction of class 2"
   ]
  },
  {
   "cell_type": "code",
   "execution_count": 20,
   "metadata": {},
   "outputs": [
    {
     "name": "stdout",
     "output_type": "stream",
     "text": [
      "[[ 1 20]\n",
      " [ 0  6]\n",
      " [ 0 16]\n",
      " ...\n",
      " [ 1 43]\n",
      " [ 0 16]\n",
      " [ 3 12]]\n"
     ]
    }
   ],
   "source": [
    "print(y_pred)"
   ]
  },
  {
   "cell_type": "code",
   "execution_count": 21,
   "metadata": {},
   "outputs": [
    {
     "name": "stdout",
     "output_type": "stream",
     "text": [
      "Class one is 1 Class two is 20\n",
      "Class one is 0 Class two is 6\n",
      "Class one is 0 Class two is 16\n",
      "Class one is 5 Class two is 12\n",
      "Class one is 3 Class two is 7\n"
     ]
    }
   ],
   "source": [
    "print(\"Class one is\",y_pred[0][0],\"Class two is\",y_pred[0][1])  #prediction of data in row 0 of test dataset\n",
    "print(\"Class one is\",y_pred[1][0],\"Class two is\",y_pred[1][1])  #prediction of data in row 1 of test dataset\n",
    "print(\"Class one is\",y_pred[2][0],\"Class two is\",y_pred[2][1])  #prediction of data in row 2 of test dataset\n",
    "print(\"Class one is\",y_pred[10][0],\"Class two is\",y_pred[10][1])  #prediction of data in row 10 of test dataset\n",
    "print(\"Class one is\",y_pred[150][0],\"Class two is\",y_pred[150][1])  #prediction of data in row 150 of test dataset"
   ]
  },
  {
   "cell_type": "markdown",
   "metadata": {},
   "source": [
    "### Saving the Model"
   ]
  },
  {
   "cell_type": "code",
   "execution_count": 22,
   "metadata": {},
   "outputs": [],
   "source": [
    "import pickle\n",
    "with open(\"pickle_model\", \"wb\") as file:\n",
    "    pickle.dump(classifier, file)"
   ]
  },
  {
   "cell_type": "code",
   "execution_count": null,
   "metadata": {},
   "outputs": [],
   "source": []
  }
 ],
 "metadata": {
  "kernelspec": {
   "display_name": "Python 3",
   "language": "python",
   "name": "python3"
  },
  "language_info": {
   "codemirror_mode": {
    "name": "ipython",
    "version": 3
   },
   "file_extension": ".py",
   "mimetype": "text/x-python",
   "name": "python",
   "nbconvert_exporter": "python",
   "pygments_lexer": "ipython3",
   "version": "3.8.5"
  }
 },
 "nbformat": 4,
 "nbformat_minor": 4
}
